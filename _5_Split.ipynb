{
 "cells": [
  {
   "cell_type": "code",
   "execution_count": 1,
   "metadata": {},
   "outputs": [],
   "source": [
    "import os\n",
    "import pandas as pd"
   ]
  },
  {
   "cell_type": "code",
   "execution_count": 5,
   "metadata": {},
   "outputs": [],
   "source": [
    "PATH_FOLDER = os.path.join(os.getcwd(), r\"C:\\Users\\Lenovo\\Desktop\\Master Data Science - Nuclio Digital School\\Projects\\TimeSeries\\Data\")\n",
    "\n",
    "merged = os.path.join(PATH_FOLDER, 'df_preprocessed.csv')\n",
    "\n",
    "full_df = pd.read_csv(merged)\n",
    "full_df['date'] = pd.to_datetime(full_df['date'])\n",
    "full_df.set_index('item_store', inplace=True)"
   ]
  },
  {
   "cell_type": "code",
   "execution_count": 8,
   "metadata": {},
   "outputs": [],
   "source": [
    "train_index = sorted(list(full_df[\"date\"].unique()))[:-2]\n",
    "#Los dos meses mas proximos\n",
    "valida_index = [sorted(list(full_df[\"date\"].unique()))[-2]]\n",
    "#Predicciones con el ultimo mes\n",
    "test_index = [sorted(list(full_df[\"date\"].unique()))[-1]]"
   ]
  },
  {
   "cell_type": "code",
   "execution_count": 9,
   "metadata": {},
   "outputs": [],
   "source": [
    "X_train = full_df[full_df[\"date\"].isin(train_index)].drop(['Monthly_Sales', \"date\"], axis=1)\n",
    "Y_train = full_df[full_df[\"date\"].isin(train_index)]['Monthly_Sales']\n",
    "\n",
    "X_valida = full_df[full_df[\"date\"].isin(valida_index)].drop(['Monthly_Sales', \"date\"], axis=1)\n",
    "Y_valida = full_df[full_df[\"date\"].isin(valida_index)]['Monthly_Sales']\n",
    "\n",
    "X_test = full_df[full_df[\"date\"].isin(test_index)].drop(['Monthly_Sales', \"date\"], axis = 1)\n",
    "Y_test = full_df[full_df[\"date\"].isin(test_index)]['Monthly_Sales']"
   ]
  }
 ],
 "metadata": {
  "kernelspec": {
   "display_name": "Python 3",
   "language": "python",
   "name": "python3"
  },
  "language_info": {
   "codemirror_mode": {
    "name": "ipython",
    "version": 3
   },
   "file_extension": ".py",
   "mimetype": "text/x-python",
   "name": "python",
   "nbconvert_exporter": "python",
   "pygments_lexer": "ipython3",
   "version": "3.11.1"
  },
  "orig_nbformat": 4
 },
 "nbformat": 4,
 "nbformat_minor": 2
}
